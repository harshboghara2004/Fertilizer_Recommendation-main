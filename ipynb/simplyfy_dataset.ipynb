{
 "cells": [
  {
   "cell_type": "code",
   "execution_count": 2,
   "metadata": {},
   "outputs": [],
   "source": [
    "import pandas as pd\n",
    "\n",
    "# Read the original dataset\n",
    "df = pd.read_csv(\"./Fertilizer Prediction.csv\")\n",
    "\n",
    "# Select only the specified columns\n",
    "selected_columns = ['Temparature', 'Humidity', 'Nitrogen', 'Potassium', 'Phosphorous', 'Fertilizer Name']\n",
    "selected_df = df[selected_columns]\n",
    "\n",
    "# Save the selected data to a new CSV file\n",
    "selected_df.to_csv(\"selected_data.csv\", index=False)\n"
   ]
  }
 ],
 "metadata": {
  "kernelspec": {
   "display_name": "Python 3",
   "language": "python",
   "name": "python3"
  },
  "language_info": {
   "codemirror_mode": {
    "name": "ipython",
    "version": 3
   },
   "file_extension": ".py",
   "mimetype": "text/x-python",
   "name": "python",
   "nbconvert_exporter": "python",
   "pygments_lexer": "ipython3",
   "version": "3.11.2"
  }
 },
 "nbformat": 4,
 "nbformat_minor": 2
}
